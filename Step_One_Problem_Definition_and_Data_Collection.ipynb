{
  "nbformat": 4,
  "nbformat_minor": 0,
  "metadata": {
    "colab": {
      "provenance": [],
      "authorship_tag": "ABX9TyOL4zdCuO26dH1mRLppBAQ+",
      "include_colab_link": true
    },
    "kernelspec": {
      "name": "python3",
      "display_name": "Python 3"
    },
    "language_info": {
      "name": "python"
    }
  },
  "cells": [
    {
      "cell_type": "markdown",
      "metadata": {
        "id": "view-in-github",
        "colab_type": "text"
      },
      "source": [
        "<a href=\"https://colab.research.google.com/github/lareynolds/Traffic-Jam-Busters/blob/main/Step_One_Problem_Definition_and_Data_Collection.ipynb\" target=\"_parent\"><img src=\"https://colab.research.google.com/assets/colab-badge.svg\" alt=\"Open In Colab\"/></a>"
      ]
    },
    {
      "cell_type": "markdown",
      "source": [
        "# Problem Definition and Data Collection\n",
        "Step one in our traffic congestion project is to identify the problem and the collect the data. Although there are several datasets that I will start with, as the analysis continues, I expect that I will need to identify additional sources and bring them into the project. The first task at hand:\n",
        "*   Define the scope of the project, including the target city or area.\n",
        "\n",
        "To analyze traffic congestion patterns in Washington, D.C metro area and identify factors contributing to congestion. Additionally, to develop predictive models for traffic congestion based on historical data.\n",
        "\n",
        "*   Identify data sources:\n",
        ">* Traffic data: Real-time traffic data from transportation authorities or APIs (e.g., Google Maps API, HERE API).\n",
        ">* Weather data: Historical weather data from sources like NOAA or weather APIs.\n",
        ">* Event data: Information on accidents, road closures, and special events affecting traffic.\n",
        ">* Road infrastructure data: Road network maps and information about traffic signals.\n",
        ">* Historical traffic data: Historical traffic flow data for model training."
      ],
      "metadata": {
        "id": "x28p8A1WQzFx"
      }
    },
    {
      "cell_type": "code",
      "execution_count": null,
      "metadata": {
        "id": "U_SHlxNPQNko"
      },
      "outputs": [],
      "source": []
    }
  ]
}